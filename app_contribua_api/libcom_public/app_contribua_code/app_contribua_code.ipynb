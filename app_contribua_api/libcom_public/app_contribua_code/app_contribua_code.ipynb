{
 "cells": [
  {
   "cell_type": "code",
   "execution_count": 22,
   "metadata": {},
   "outputs": [],
   "source": [
    "import requests\n",
    "import json\n",
    "odoo_url = \"http://localhost:8069\""
   ]
  },
  {
   "cell_type": "code",
   "execution_count": 23,
   "metadata": {},
   "outputs": [],
   "source": [
    "url = 'http://localhost:8069'\n",
    "route_auth = '/web/session/authenticate'\n",
    "db = \"mydb4\"\n",
    "login = \"admin\"\n",
    "password = \"admin\""
   ]
  },
  {
   "cell_type": "code",
   "execution_count": null,
   "metadata": {},
   "outputs": [],
   "source": [
    "url = 'http://http://187.32.138.141'\n",
    "route_auth = '/web/session/authenticate'\n",
    "db = \"libcom_oficial\"\n",
    "login = \"admin\"\n",
    "password = \"admin\""
   ]
  },
  {
   "cell_type": "code",
   "execution_count": 24,
   "metadata": {},
   "outputs": [
    {
     "data": {
      "text/plain": [
       "{'username': 'mydb4',\n",
       " 'password': 'admin',\n",
       " 'session_id': '95899281aee7f24ee7db754289ccce1fde901705'}"
      ]
     },
     "execution_count": 24,
     "metadata": {},
     "output_type": "execute_result"
    }
   ],
   "source": [
    "#calling authenticate function of the libcom controller model, storing response \n",
    "\n",
    "#first call is a post request with URL + route for the authentication controller, containing a JSON with login information:\n",
    "login = requests.post(url+route_auth, json={\n",
    "    \"jsonrpc\": \"2.0\", \"params\":{\n",
    "        \"db\":db,\"login\":login,\"password\":password\n",
    "    }})\n",
    "\n",
    "\n",
    "#Odoo will return a session id in cookes, which we will use for the next call\n",
    "session_id = str(login.cookies.get('session_id'))\n",
    "\n",
    "#set a cookies variable, which we will pass in next call\n",
    "cookies = {\n",
    "'username': login,\n",
    "'password': password,\n",
    "'session_id': session_id\n",
    "}\n",
    "cookies"
   ]
  },
  {
   "cell_type": "code",
   "execution_count": 25,
   "metadata": {},
   "outputs": [],
   "source": [
    "#parameters to pass\n",
    "name = \"tobias Riis\"\n",
    "cpf = 12345\n",
    "email = \"riis.tobias@gmail.com\"\n",
    "donation = 200\n",
    "card_object = card_object #contains a dict returned from Pagarme with the donators credit card id in pagarme db"
   ]
  },
  {
   "cell_type": "code",
   "execution_count": 26,
   "metadata": {
    "scrolled": true
   },
   "outputs": [],
   "source": [
    "contacts = requests.post('http://localhost:8069/api/create_contribua/', cookies = cookies, json={\n",
    "    \"jsonrpc\": \"2.0\", \"params\":{'name':name, \"l10n_br_cnpj_cpf\":cpf, \"email\":email, \"monthly_donation\": donation}})\n"
   ]
  },
  {
   "cell_type": "code",
   "execution_count": 27,
   "metadata": {},
   "outputs": [
    {
     "data": {
      "text/plain": [
       "{'jsonrpc': '2.0',\n",
       " 'id': None,\n",
       " 'result': {'succes': True,\n",
       "  'message': 'Success',\n",
       "  'partner': 67,\n",
       "  'subscription ID': 35,\n",
       "  'subscription object': \"<class 'odoo.api.sale.subscription'>\",\n",
       "  'invoice': {'type': 'ir.actions.act_window_close'}}}"
      ]
     },
     "execution_count": 27,
     "metadata": {},
     "output_type": "execute_result"
    }
   ],
   "source": [
    "contacts.json()"
   ]
  },
  {
   "cell_type": "code",
   "execution_count": 28,
   "metadata": {},
   "outputs": [],
   "source": [
    "cookies = {\n",
    "'username': \"mydb4\",\n",
    "'password': \"admin\",\n",
    "'session_id': \"session_id\"\n",
    "}"
   ]
  },
  {
   "cell_type": "code",
   "execution_count": 26,
   "metadata": {},
   "outputs": [
    {
     "ename": "SyntaxError",
     "evalue": "unexpected EOF while parsing (<ipython-input-26-0d64609e1b3f>, line 4)",
     "output_type": "error",
     "traceback": [
      "\u001b[0;36m  File \u001b[0;32m\"<ipython-input-26-0d64609e1b3f>\"\u001b[0;36m, line \u001b[0;32m4\u001b[0m\n\u001b[0;31m    }, \"cookies\": cookies}\u001b[0m\n\u001b[0m                          ^\u001b[0m\n\u001b[0;31mSyntaxError\u001b[0m\u001b[0;31m:\u001b[0m unexpected EOF while parsing\n"
     ]
    }
   ],
   "source": [
    "# get subscriptions controller\n",
    "contacts = requests.get('http://localhost:8069/api/get_contacts/', cookies = cookies, json={\n",
    "    \"jsonrpc\": \"2.0\"})\n"
   ]
  },
  {
   "cell_type": "code",
   "execution_count": 33,
   "metadata": {},
   "outputs": [],
   "source": [
    "#calling second part of the API in order to\n",
    "\n"
   ]
  },
  {
   "cell_type": "code",
   "execution_count": 34,
   "metadata": {},
   "outputs": [
    {
     "data": {
      "text/plain": [
       "{'jsonrpc': '2.0',\n",
       " 'id': None,\n",
       " 'error': {'code': 100,\n",
       "  'message': 'Odoo Session Expired',\n",
       "  'data': {'name': 'odoo.http.SessionExpiredException',\n",
       "   'debug': 'Traceback (most recent call last):\\n  File \"/Users/Tobias/Odoo_dev/odoo_13/odoo/odoo/http.py\", line 624, in _handle_exception\\n    return super(JsonRequest, self)._handle_exception(exception)\\n  File \"/Users/Tobias/Odoo_dev/odoo_13/odoo/odoo/http.py\", line 310, in _handle_exception\\n    raise pycompat.reraise(type(exception), exception, sys.exc_info()[2])\\n  File \"/Users/Tobias/Odoo_dev/odoo_13/odoo/odoo/tools/pycompat.py\", line 14, in reraise\\n    raise value\\n  File \"/Users/Tobias/Odoo_dev/odoo_13/odoo/addons/http_routing/models/ir_http.py\", line 457, in _dispatch\\n    cls._authenticate(func.routing[\\'auth\\'])\\n  File \"/Users/Tobias/Odoo_dev/odoo_13/odoo/odoo/addons/base/models/ir_http.py\", line 124, in _authenticate\\n    getattr(cls, \"_auth_method_%s\" % auth_method)()\\n  File \"/Users/Tobias/Odoo_dev/odoo_13/odoo/odoo/addons/base/models/ir_http.py\", line 97, in _auth_method_user\\n    raise http.SessionExpiredException(\"Session expired\")\\nodoo.http.SessionExpiredException: Session expired\\n',\n",
       "   'message': 'Session expired',\n",
       "   'arguments': ['Session expired'],\n",
       "   'exception_type': 'internal_error',\n",
       "   'context': {}}}}"
      ]
     },
     "execution_count": 34,
     "metadata": {},
     "output_type": "execute_result"
    }
   ],
   "source": [
    "contacts.json()"
   ]
  },
  {
   "cell_type": "code",
   "execution_count": 22,
   "metadata": {},
   "outputs": [],
   "source": [
    "#calling second part of the API in order to get contacts\n",
    "\n",
    "contacts = requests.get('http://localhost:8069/api/get_contacts/', json={\n",
    "    \"jsonrpc\": \"2.0\", \"params\":{}}, \"cookies\": cookies)"
   ]
  },
  {
   "cell_type": "code",
   "execution_count": 23,
   "metadata": {},
   "outputs": [
    {
     "data": {
      "text/plain": [
       "{'jsonrpc': '2.0',\n",
       " 'id': None,\n",
       " 'error': {'code': 200,\n",
       "  'message': 'Odoo Server Error',\n",
       "  'data': {'name': 'odoo.exceptions.AccessError',\n",
       "   'debug': 'Traceback (most recent call last):\\n  File \"/Users/Tobias/Odoo_dev/odoo_13/odoo/odoo/tools/cache.py\", line 85, in lookup\\n    r = d[key]\\n  File \"/Users/Tobias/Odoo_dev/odoo_13/odoo/odoo/tools/func.py\", line 69, in wrapper\\n    return func(self, *args, **kwargs)\\n  File \"/Users/Tobias/Odoo_dev/odoo_13/odoo/odoo/tools/lru.py\", line 44, in __getitem__\\n    a = self.d[obj].me\\nKeyError: (\\'ir.model.access\\', <function IrModelAccess.check at 0x7fdb4f5c1170>, 4, False, \\'sale.subscription\\', \\'read\\', True, (\\'en_US\\',))\\n\\nDuring handling of the above exception, another exception occurred:\\n\\nTraceback (most recent call last):\\n  File \"/Users/Tobias/Odoo_dev/odoo_13/odoo/odoo/http.py\", line 624, in _handle_exception\\n    return super(JsonRequest, self)._handle_exception(exception)\\n  File \"/Users/Tobias/Odoo_dev/odoo_13/odoo/odoo/http.py\", line 310, in _handle_exception\\n    raise pycompat.reraise(type(exception), exception, sys.exc_info()[2])\\n  File \"/Users/Tobias/Odoo_dev/odoo_13/odoo/odoo/tools/pycompat.py\", line 14, in reraise\\n    raise value\\n  File \"/Users/Tobias/Odoo_dev/odoo_13/odoo/odoo/http.py\", line 669, in dispatch\\n    result = self._call_function(**self.params)\\n  File \"/Users/Tobias/Odoo_dev/odoo_13/odoo/odoo/http.py\", line 350, in _call_function\\n    return checked_call(self.db, *args, **kwargs)\\n  File \"/Users/Tobias/Odoo_dev/odoo_13/odoo/odoo/service/model.py\", line 94, in wrapper\\n    return f(dbname, *args, **kwargs)\\n  File \"/Users/Tobias/Odoo_dev/odoo_13/odoo/odoo/http.py\", line 339, in checked_call\\n    result = self.endpoint(*a, **kw)\\n  File \"/Users/Tobias/Odoo_dev/odoo_13/odoo/odoo/http.py\", line 915, in __call__\\n    return self.method(*args, **kw)\\n  File \"/Users/Tobias/Odoo_dev/odoo_13/odoo/odoo/http.py\", line 515, in response_wrap\\n    response = f(*args, **kw)\\n  File \"/Users/Tobias/Odoo_dev/odoo_13/odoo/custom_addons/libcom/controllers/main.py\", line 16, in get_partners\\n    contacts_rec = request.env[\\'sale.subscription\\'].search([])\\n  File \"/Users/Tobias/Odoo_dev/odoo_13/odoo/odoo/models.py\", line 1618, in search\\n    res = self._search(args, offset=offset, limit=limit, order=order, count=count)\\n  File \"/Users/Tobias/Odoo_dev/odoo_13/odoo/odoo/models.py\", line 4374, in _search\\n    model.check_access_rights(\\'read\\')\\n  File \"/Users/Tobias/Odoo_dev/odoo_13/odoo/odoo/models.py\", line 3214, in check_access_rights\\n    return self.env[\\'ir.model.access\\'].check(self._name, operation, raise_exception)\\n  File \"<decorator-gen-22>\", line 2, in check\\n  File \"/Users/Tobias/Odoo_dev/odoo_13/odoo/odoo/tools/cache.py\", line 90, in lookup\\n    value = d[key] = self.method(*args, **kwargs)\\n  File \"/Users/Tobias/Odoo_dev/odoo_13/odoo/odoo/addons/base/models/ir_model.py\", line 1559, in check\\n    raise AccessError(msg % msg_params)\\nodoo.exceptions.AccessError: (\"Sorry, you are not allowed to access documents of type \\'Subscription\\' (sale.subscription). This operation is allowed for the groups:\\\\n\\\\t- Subscription/Administrator\\\\n\\\\t- Subscription/See Subscriptions\\\\n\\\\t- User types/Portal - (Operation: read, User: 4)\", None)\\n',\n",
       "   'message': \"Sorry, you are not allowed to access documents of type 'Subscription' (sale.subscription). This operation is allowed for the groups:\\n\\t- Subscription/Administrator\\n\\t- Subscription/See Subscriptions\\n\\t- User types/Portal - (Operation: read, User: 4)\\nNone\",\n",
       "   'arguments': [\"Sorry, you are not allowed to access documents of type 'Subscription' (sale.subscription). This operation is allowed for the groups:\\n\\t- Subscription/Administrator\\n\\t- Subscription/See Subscriptions\\n\\t- User types/Portal - (Operation: read, User: 4)\",\n",
       "    None],\n",
       "   'exception_type': 'access_error',\n",
       "   'context': {}}}}"
      ]
     },
     "execution_count": 23,
     "metadata": {},
     "output_type": "execute_result"
    }
   ],
   "source": [
    "contacts.json()"
   ]
  },
  {
   "cell_type": "code",
   "execution_count": null,
   "metadata": {},
   "outputs": [],
   "source": []
  }
 ],
 "metadata": {
  "kernelspec": {
   "display_name": "Python 3",
   "language": "python",
   "name": "python3"
  },
  "language_info": {
   "codemirror_mode": {
    "name": "ipython",
    "version": 3
   },
   "file_extension": ".py",
   "mimetype": "text/x-python",
   "name": "python",
   "nbconvert_exporter": "python",
   "pygments_lexer": "ipython3",
   "version": "3.7.4"
  }
 },
 "nbformat": 4,
 "nbformat_minor": 2
}
